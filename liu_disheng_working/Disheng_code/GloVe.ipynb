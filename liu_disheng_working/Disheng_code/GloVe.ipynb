{
  "nbformat": 4,
  "nbformat_minor": 0,
  "metadata": {
    "colab": {
      "name": "GloVe.ipynb",
      "provenance": []
    },
    "kernelspec": {
      "name": "python3",
      "display_name": "Python 3"
    },
    "language_info": {
      "name": "python"
    }
  },
  "cells": [
    {
      "cell_type": "markdown",
      "source": [
        "### Initialization"
      ],
      "metadata": {
        "id": "Z1r7_RwNBCGJ"
      }
    },
    {
      "cell_type": "code",
      "source": [
        "pip install glove-python-binary"
      ],
      "metadata": {
        "colab": {
          "base_uri": "https://localhost:8080/"
        },
        "id": "pp4zlkwSOx7N",
        "outputId": "2f4e2a0a-d205-46e5-8b59-3fe0e2497d10"
      },
      "execution_count": null,
      "outputs": [
        {
          "output_type": "stream",
          "name": "stdout",
          "text": [
            "Requirement already satisfied: glove-python-binary in /usr/local/lib/python3.7/dist-packages (0.2.0)\n",
            "Requirement already satisfied: numpy in /usr/local/lib/python3.7/dist-packages (from glove-python-binary) (1.21.5)\n",
            "Requirement already satisfied: scipy in /usr/local/lib/python3.7/dist-packages (from glove-python-binary) (1.4.1)\n"
          ]
        }
      ]
    },
    {
      "cell_type": "code",
      "source": [
        "from glove import Corpus, Glove\n",
        "import pandas as pd"
      ],
      "metadata": {
        "id": "FGWM-YKUP_mp"
      },
      "execution_count": null,
      "outputs": []
    },
    {
      "cell_type": "code",
      "source": [
        "corpus = Corpus() "
      ],
      "metadata": {
        "id": "4Eu3TRaiQ9MK"
      },
      "execution_count": null,
      "outputs": []
    },
    {
      "cell_type": "code",
      "source": [
        "line = pd.read_csv('/content/train.csv',header=None)\n",
        "line.head(100)"
      ],
      "metadata": {
        "colab": {
          "base_uri": "https://localhost:8080/",
          "height": 423
        },
        "id": "LgVkk9-7RKWF",
        "outputId": "ac87c9df-fec3-49b5-bfc8-474dc0f76443"
      },
      "execution_count": null,
      "outputs": [
        {
          "output_type": "execute_result",
          "data": {
            "text/plain": [
              "       0                                                  1  \\\n",
              "0    NaN                                      it's suliban.   \n",
              "1    0.0  nothing thrills me more than to see kids polli...   \n",
              "2    1.0  do you want to spend all night at the cemetery...   \n",
              "3    2.0                  our ships are in attack position.   \n",
              "4    3.0                  what about the original sam? huh?   \n",
              "..   ...                                                ...   \n",
              "95  94.0                                              rose.   \n",
              "96  95.0               and if i see you flinch, you're out.   \n",
              "97  96.0                         give me my daughters back.   \n",
              "98  97.0           why is it that when we had rotary phones   \n",
              "99  98.0                               something like that.   \n",
              "\n",
              "                                  2  \n",
              "0                           スリバン人です  \n",
              "1   生徒がお互いの受精じゃなくて 植物の受粉に熱中してくれてるよ!  \n",
              "2                 この雨の中 一晩中 墓地にいたい?  \n",
              "3                    船はもう攻撃発起位置にある。  \n",
              "4                   オリジナルの サムが居るんだぞ  \n",
              "..                              ...  \n",
              "95                             ローズ!  \n",
              "96                   もしお前がだじろだら、脱落だ  \n",
              "97                        娘達を返して欲しい  \n",
              "98                 なぜ 電話機がダイヤル式だったり  \n",
              "99                             何か用が  \n",
              "\n",
              "[100 rows x 3 columns]"
            ],
            "text/html": [
              "\n",
              "  <div id=\"df-89ee258e-ec7a-4d24-80fa-43d1d3ba61ac\">\n",
              "    <div class=\"colab-df-container\">\n",
              "      <div>\n",
              "<style scoped>\n",
              "    .dataframe tbody tr th:only-of-type {\n",
              "        vertical-align: middle;\n",
              "    }\n",
              "\n",
              "    .dataframe tbody tr th {\n",
              "        vertical-align: top;\n",
              "    }\n",
              "\n",
              "    .dataframe thead th {\n",
              "        text-align: right;\n",
              "    }\n",
              "</style>\n",
              "<table border=\"1\" class=\"dataframe\">\n",
              "  <thead>\n",
              "    <tr style=\"text-align: right;\">\n",
              "      <th></th>\n",
              "      <th>0</th>\n",
              "      <th>1</th>\n",
              "      <th>2</th>\n",
              "    </tr>\n",
              "  </thead>\n",
              "  <tbody>\n",
              "    <tr>\n",
              "      <th>0</th>\n",
              "      <td>NaN</td>\n",
              "      <td>it's suliban.</td>\n",
              "      <td>スリバン人です</td>\n",
              "    </tr>\n",
              "    <tr>\n",
              "      <th>1</th>\n",
              "      <td>0.0</td>\n",
              "      <td>nothing thrills me more than to see kids polli...</td>\n",
              "      <td>生徒がお互いの受精じゃなくて 植物の受粉に熱中してくれてるよ!</td>\n",
              "    </tr>\n",
              "    <tr>\n",
              "      <th>2</th>\n",
              "      <td>1.0</td>\n",
              "      <td>do you want to spend all night at the cemetery...</td>\n",
              "      <td>この雨の中 一晩中 墓地にいたい?</td>\n",
              "    </tr>\n",
              "    <tr>\n",
              "      <th>3</th>\n",
              "      <td>2.0</td>\n",
              "      <td>our ships are in attack position.</td>\n",
              "      <td>船はもう攻撃発起位置にある。</td>\n",
              "    </tr>\n",
              "    <tr>\n",
              "      <th>4</th>\n",
              "      <td>3.0</td>\n",
              "      <td>what about the original sam? huh?</td>\n",
              "      <td>オリジナルの サムが居るんだぞ</td>\n",
              "    </tr>\n",
              "    <tr>\n",
              "      <th>...</th>\n",
              "      <td>...</td>\n",
              "      <td>...</td>\n",
              "      <td>...</td>\n",
              "    </tr>\n",
              "    <tr>\n",
              "      <th>95</th>\n",
              "      <td>94.0</td>\n",
              "      <td>rose.</td>\n",
              "      <td>ローズ!</td>\n",
              "    </tr>\n",
              "    <tr>\n",
              "      <th>96</th>\n",
              "      <td>95.0</td>\n",
              "      <td>and if i see you flinch, you're out.</td>\n",
              "      <td>もしお前がだじろだら、脱落だ</td>\n",
              "    </tr>\n",
              "    <tr>\n",
              "      <th>97</th>\n",
              "      <td>96.0</td>\n",
              "      <td>give me my daughters back.</td>\n",
              "      <td>娘達を返して欲しい</td>\n",
              "    </tr>\n",
              "    <tr>\n",
              "      <th>98</th>\n",
              "      <td>97.0</td>\n",
              "      <td>why is it that when we had rotary phones</td>\n",
              "      <td>なぜ 電話機がダイヤル式だったり</td>\n",
              "    </tr>\n",
              "    <tr>\n",
              "      <th>99</th>\n",
              "      <td>98.0</td>\n",
              "      <td>something like that.</td>\n",
              "      <td>何か用が</td>\n",
              "    </tr>\n",
              "  </tbody>\n",
              "</table>\n",
              "<p>100 rows × 3 columns</p>\n",
              "</div>\n",
              "      <button class=\"colab-df-convert\" onclick=\"convertToInteractive('df-89ee258e-ec7a-4d24-80fa-43d1d3ba61ac')\"\n",
              "              title=\"Convert this dataframe to an interactive table.\"\n",
              "              style=\"display:none;\">\n",
              "        \n",
              "  <svg xmlns=\"http://www.w3.org/2000/svg\" height=\"24px\"viewBox=\"0 0 24 24\"\n",
              "       width=\"24px\">\n",
              "    <path d=\"M0 0h24v24H0V0z\" fill=\"none\"/>\n",
              "    <path d=\"M18.56 5.44l.94 2.06.94-2.06 2.06-.94-2.06-.94-.94-2.06-.94 2.06-2.06.94zm-11 1L8.5 8.5l.94-2.06 2.06-.94-2.06-.94L8.5 2.5l-.94 2.06-2.06.94zm10 10l.94 2.06.94-2.06 2.06-.94-2.06-.94-.94-2.06-.94 2.06-2.06.94z\"/><path d=\"M17.41 7.96l-1.37-1.37c-.4-.4-.92-.59-1.43-.59-.52 0-1.04.2-1.43.59L10.3 9.45l-7.72 7.72c-.78.78-.78 2.05 0 2.83L4 21.41c.39.39.9.59 1.41.59.51 0 1.02-.2 1.41-.59l7.78-7.78 2.81-2.81c.8-.78.8-2.07 0-2.86zM5.41 20L4 18.59l7.72-7.72 1.47 1.35L5.41 20z\"/>\n",
              "  </svg>\n",
              "      </button>\n",
              "      \n",
              "  <style>\n",
              "    .colab-df-container {\n",
              "      display:flex;\n",
              "      flex-wrap:wrap;\n",
              "      gap: 12px;\n",
              "    }\n",
              "\n",
              "    .colab-df-convert {\n",
              "      background-color: #E8F0FE;\n",
              "      border: none;\n",
              "      border-radius: 50%;\n",
              "      cursor: pointer;\n",
              "      display: none;\n",
              "      fill: #1967D2;\n",
              "      height: 32px;\n",
              "      padding: 0 0 0 0;\n",
              "      width: 32px;\n",
              "    }\n",
              "\n",
              "    .colab-df-convert:hover {\n",
              "      background-color: #E2EBFA;\n",
              "      box-shadow: 0px 1px 2px rgba(60, 64, 67, 0.3), 0px 1px 3px 1px rgba(60, 64, 67, 0.15);\n",
              "      fill: #174EA6;\n",
              "    }\n",
              "\n",
              "    [theme=dark] .colab-df-convert {\n",
              "      background-color: #3B4455;\n",
              "      fill: #D2E3FC;\n",
              "    }\n",
              "\n",
              "    [theme=dark] .colab-df-convert:hover {\n",
              "      background-color: #434B5C;\n",
              "      box-shadow: 0px 1px 3px 1px rgba(0, 0, 0, 0.15);\n",
              "      filter: drop-shadow(0px 1px 2px rgba(0, 0, 0, 0.3));\n",
              "      fill: #FFFFFF;\n",
              "    }\n",
              "  </style>\n",
              "\n",
              "      <script>\n",
              "        const buttonEl =\n",
              "          document.querySelector('#df-89ee258e-ec7a-4d24-80fa-43d1d3ba61ac button.colab-df-convert');\n",
              "        buttonEl.style.display =\n",
              "          google.colab.kernel.accessAllowed ? 'block' : 'none';\n",
              "\n",
              "        async function convertToInteractive(key) {\n",
              "          const element = document.querySelector('#df-89ee258e-ec7a-4d24-80fa-43d1d3ba61ac');\n",
              "          const dataTable =\n",
              "            await google.colab.kernel.invokeFunction('convertToInteractive',\n",
              "                                                     [key], {});\n",
              "          if (!dataTable) return;\n",
              "\n",
              "          const docLinkHtml = 'Like what you see? Visit the ' +\n",
              "            '<a target=\"_blank\" href=https://colab.research.google.com/notebooks/data_table.ipynb>data table notebook</a>'\n",
              "            + ' to learn more about interactive tables.';\n",
              "          element.innerHTML = '';\n",
              "          dataTable['output_type'] = 'display_data';\n",
              "          await google.colab.output.renderOutput(dataTable, element);\n",
              "          const docLink = document.createElement('div');\n",
              "          docLink.innerHTML = docLinkHtml;\n",
              "          element.appendChild(docLink);\n",
              "        }\n",
              "      </script>\n",
              "    </div>\n",
              "  </div>\n",
              "  "
            ]
          },
          "metadata": {},
          "execution_count": 49
        }
      ]
    },
    {
      "cell_type": "code",
      "source": [
        "lines = list(line[1])\n",
        "print(len(lines))"
      ],
      "metadata": {
        "colab": {
          "base_uri": "https://localhost:8080/"
        },
        "id": "m7wLtoYOc0ue",
        "outputId": "84e851c4-6543-4ee1-e258-345ac8459adc"
      },
      "execution_count": null,
      "outputs": [
        {
          "output_type": "stream",
          "name": "stdout",
          "text": [
            "2694511\n"
          ]
        }
      ]
    },
    {
      "cell_type": "markdown",
      "source": [
        "### Removing the Stop Words"
      ],
      "metadata": {
        "id": "nuS-n2nNh-8g"
      }
    },
    {
      "cell_type": "code",
      "source": [
        "\n",
        "from nltk.corpus import stopwords \n",
        "# import nltk\n",
        "# nltk.download('stopwords')\n",
        "stop_words=set(stopwords.words('english')) \n",
        "lines_without_stopwords=[] #stop words contain the set of stop words \n",
        "for line in lines: \n",
        "  # print(line)\n",
        "  temp_line=[] \n",
        "  for word in line.split(): \n",
        "    if word not in stop_words: \n",
        "      temp_line.append (word) \n",
        "  lines_without_stopwords.append(' '.join(temp_line)) \n",
        "  \n",
        "print(lines_without_stopwords[:10])"
      ],
      "metadata": {
        "colab": {
          "base_uri": "https://localhost:8080/"
        },
        "id": "geFcvUt-cjGm",
        "outputId": "c05026b4-392a-4ba4-9dde-2ac8019d3b63"
      },
      "execution_count": null,
      "outputs": [
        {
          "output_type": "stream",
          "name": "stdout",
          "text": [
            "['suliban.', 'nothing thrills see kids pollinating plants instead other.', 'want spend night cemetery rain?', 'ships attack position.', 'original sam? huh?', 'even though, like it, quit job!', 'goku continued journey alone, became steadily stronger!', \"begin emergency captains' meeting!\", 'words, lights projectors', 'funny, david. hell you?']\n"
          ]
        }
      ]
    },
    {
      "cell_type": "markdown",
      "source": [
        "### Lemmatization"
      ],
      "metadata": {
        "id": "6subxHWsiDRU"
      }
    },
    {
      "cell_type": "code",
      "source": [
        "from nltk.stem import WordNetLemmatizer \n",
        "# import nltk\n",
        "# nltk.download('wordnet')\n",
        "wordnet_lemmatizer = WordNetLemmatizer() \n",
        "lines_with_lemmas=[] #stop words contain the set of stop words \n",
        "for line in lines_without_stopwords: \n",
        "  temp_line=[] \n",
        "  for word in line.split(): \n",
        "    temp_line.append(wordnet_lemmatizer.lemmatize(word)) \n",
        "  string=' ' \n",
        "  lines_with_lemmas.append(string.join(temp_line)) \n",
        "lines=lines_with_lemmas\n",
        "print(lines[:10])"
      ],
      "metadata": {
        "colab": {
          "base_uri": "https://localhost:8080/"
        },
        "id": "trGKJ4iJeXOd",
        "outputId": "1c6ae907-7874-43d1-d320-fa2945abd974"
      },
      "execution_count": null,
      "outputs": [
        {
          "output_type": "stream",
          "name": "stdout",
          "text": [
            "['suliban.', 'nothing thrill see kid pollinating plant instead other.', 'want spend night cemetery rain?', 'ship attack position.', 'original sam? huh?', 'even though, like it, quit job!', 'goku continued journey alone, became steadily stronger!', \"begin emergency captains' meeting!\", 'words, light projector', 'funny, david. hell you?']\n"
          ]
        }
      ]
    },
    {
      "cell_type": "code",
      "source": [
        "final_lines = []\n",
        "for i in lines:\n",
        "  b=[]\n",
        "  b.extend(i.split())\n",
        "  final_lines.append(b)"
      ],
      "metadata": {
        "id": "TQasCU18SdBa"
      },
      "execution_count": null,
      "outputs": []
    },
    {
      "cell_type": "code",
      "source": [
        "final_lines[2:5]"
      ],
      "metadata": {
        "colab": {
          "base_uri": "https://localhost:8080/"
        },
        "id": "JDJCHlReSq5T",
        "outputId": "2f2dd25d-3377-4f3f-82d3-809d2ac91a56"
      },
      "execution_count": null,
      "outputs": [
        {
          "output_type": "execute_result",
          "data": {
            "text/plain": [
              "[['want', 'spend', 'night', 'cemetery', 'rain?'],\n",
              " ['ship', 'attack', 'position.'],\n",
              " ['original', 'sam?', 'huh?']]"
            ]
          },
          "metadata": {},
          "execution_count": 8
        }
      ]
    },
    {
      "cell_type": "markdown",
      "source": [
        "### Train GloVe model\n"
      ],
      "metadata": {
        "id": "OYV-oHfKAe7N"
      }
    },
    {
      "cell_type": "code",
      "source": [
        "corpus.fit(final_lines, window=4)"
      ],
      "metadata": {
        "id": "El-_uJ0ESwPb"
      },
      "execution_count": null,
      "outputs": []
    },
    {
      "cell_type": "code",
      "source": [
        "import time\n",
        "\n",
        "start = time.time()\n",
        "\n",
        "print(\"The time used to execute this is given below\")\n",
        "\n",
        "\n",
        "glove = Glove(no_components=5, learning_rate=0.05)\n",
        " \n",
        "glove.fit(corpus.matrix, epochs=100, no_threads=32, verbose=True)\n",
        "glove.add_dictionary(corpus.dictionary)\n",
        "glove.save('glove.model')\n",
        "\n",
        "end = time.time()\n",
        "\n",
        "print('\\nruning time:',end - start,' s')"
      ],
      "metadata": {
        "colab": {
          "base_uri": "https://localhost:8080/"
        },
        "id": "iFRt9qhBTRVY",
        "outputId": "4242bd5e-a5dd-4457-fae4-25f6a3e1f44f"
      },
      "execution_count": null,
      "outputs": [
        {
          "output_type": "stream",
          "name": "stdout",
          "text": [
            "The time used to execute this is given below\n",
            "Performing 100 training epochs with 32 threads\n",
            "Epoch 0\n",
            "Epoch 1\n",
            "Epoch 2\n",
            "Epoch 3\n",
            "Epoch 4\n",
            "Epoch 5\n",
            "Epoch 6\n",
            "Epoch 7\n",
            "Epoch 8\n",
            "Epoch 9\n",
            "Epoch 10\n",
            "Epoch 11\n",
            "Epoch 12\n",
            "Epoch 13\n",
            "Epoch 14\n",
            "Epoch 15\n",
            "Epoch 16\n",
            "Epoch 17\n",
            "Epoch 18\n",
            "Epoch 19\n",
            "Epoch 20\n",
            "Epoch 21\n",
            "Epoch 22\n",
            "Epoch 23\n",
            "Epoch 24\n",
            "Epoch 25\n",
            "Epoch 26\n",
            "Epoch 27\n",
            "Epoch 28\n",
            "Epoch 29\n",
            "Epoch 30\n",
            "Epoch 31\n",
            "Epoch 32\n",
            "Epoch 33\n",
            "Epoch 34\n",
            "Epoch 35\n",
            "Epoch 36\n",
            "Epoch 37\n",
            "Epoch 38\n",
            "Epoch 39\n",
            "Epoch 40\n",
            "Epoch 41\n",
            "Epoch 42\n",
            "Epoch 43\n",
            "Epoch 44\n",
            "Epoch 45\n",
            "Epoch 46\n",
            "Epoch 47\n",
            "Epoch 48\n",
            "Epoch 49\n",
            "Epoch 50\n",
            "Epoch 51\n",
            "Epoch 52\n",
            "Epoch 53\n",
            "Epoch 54\n",
            "Epoch 55\n",
            "Epoch 56\n",
            "Epoch 57\n",
            "Epoch 58\n",
            "Epoch 59\n",
            "Epoch 60\n",
            "Epoch 61\n",
            "Epoch 62\n",
            "Epoch 63\n",
            "Epoch 64\n",
            "Epoch 65\n",
            "Epoch 66\n",
            "Epoch 67\n",
            "Epoch 68\n",
            "Epoch 69\n",
            "Epoch 70\n",
            "Epoch 71\n",
            "Epoch 72\n",
            "Epoch 73\n",
            "Epoch 74\n",
            "Epoch 75\n",
            "Epoch 76\n",
            "Epoch 77\n",
            "Epoch 78\n",
            "Epoch 79\n",
            "Epoch 80\n",
            "Epoch 81\n",
            "Epoch 82\n",
            "Epoch 83\n",
            "Epoch 84\n",
            "Epoch 85\n",
            "Epoch 86\n",
            "Epoch 87\n",
            "Epoch 88\n",
            "Epoch 89\n",
            "Epoch 90\n",
            "Epoch 91\n",
            "Epoch 92\n",
            "Epoch 93\n",
            "Epoch 94\n",
            "Epoch 95\n",
            "Epoch 96\n",
            "Epoch 97\n",
            "Epoch 98\n",
            "Epoch 99\n",
            "\n",
            "runing time: 350.0921108722687  s\n"
          ]
        }
      ]
    },
    {
      "cell_type": "markdown",
      "source": [
        "### Result"
      ],
      "metadata": {
        "id": "5shbUKT8AsGc"
      }
    },
    {
      "cell_type": "code",
      "source": [
        "print (glove.word_vectors[glove.dictionary['ice']])\n",
        "print(glove.word_vectors[glove.dictionary['solid']])\n",
        "print (glove.word_vectors[glove.dictionary['water']])\n",
        "print(glove.word_vectors[glove.dictionary['steam']])\n",
        "print(glove.word_vectors[glove.dictionary['gas']])"
      ],
      "metadata": {
        "colab": {
          "base_uri": "https://localhost:8080/"
        },
        "id": "aifCfWr_TrB0",
        "outputId": "8d30fb9e-684b-443c-c73d-0e49df1467eb"
      },
      "execution_count": null,
      "outputs": [
        {
          "output_type": "stream",
          "name": "stdout",
          "text": [
            "[-0.49698661  0.17355897 -0.8763322   0.18034416  0.55585528]\n",
            "[ 0.02113601 -0.01558317 -0.12137971  0.06967532 -0.09278328]\n",
            "[ 0.43206666 -0.17013498 -0.50695423 -0.95981384 -0.03750297]\n",
            "[-0.06227461  0.00831281  0.16673608 -0.13151228  0.08683154]\n",
            "[ 0.43870039 -0.37934762  0.0171744  -0.48198384 -0.1782471 ]\n"
          ]
        }
      ]
    },
    {
      "cell_type": "code",
      "source": [
        "from scipy import spatial\n",
        "l = ['ice','solid','water','steam','gas','fashion','random']\n",
        "\n",
        "print('cosine simility: ')\n",
        "for i,j in enumerate(l):\n",
        "  for k in l[i+1:]:\n",
        "    # if j==i:\n",
        "    #   continue\n",
        "    # else:\n",
        "      result = 1 - spatial.distance.cosine(glove.word_vectors[glove.dictionary[j]], glove.word_vectors[glove.dictionary[k]])\n",
        "      print(j,'--',k,': ',result)\n"
      ],
      "metadata": {
        "colab": {
          "base_uri": "https://localhost:8080/"
        },
        "id": "KwBf4Ya8azSH",
        "outputId": "9bf5f219-f36d-4134-a9d0-0b5ad2fb8b09"
      },
      "execution_count": null,
      "outputs": [
        {
          "output_type": "stream",
          "name": "stdout",
          "text": [
            "cosine simility: \n",
            "ice -- solid :  0.2705795944977627\n",
            "ice -- water :  0.004355012130448754\n",
            "ice -- steam :  -0.3183679732926483\n",
            "ice -- gas :  -0.5313199647848101\n",
            "ice -- fashion :  0.1360633464799471\n",
            "ice -- random :  0.4552037341709345\n",
            "solid -- water :  0.04942093992153218\n",
            "solid -- steam :  -0.9622865744014089\n",
            "solid -- gas :  -0.029946270613192993\n",
            "solid -- fashion :  0.7998214022669012\n",
            "solid -- random :  0.8012909588551248\n",
            "water -- steam :  0.03602476060615556\n",
            "water -- gas :  0.7806190152296062\n",
            "water -- fashion :  0.14257311484257207\n",
            "water -- random :  0.44559489110177686\n",
            "steam -- gas :  0.11010323317709869\n",
            "steam -- fashion :  -0.8829763831064166\n",
            "steam -- random :  -0.8232132609166667\n",
            "gas -- fashion :  0.22507281431887904\n",
            "gas -- random :  0.24597132228986784\n",
            "fashion -- random :  0.8709398499141391\n"
          ]
        }
      ]
    },
    {
      "cell_type": "code",
      "source": [
        ""
      ],
      "metadata": {
        "id": "bbx3z9mBkSf5"
      },
      "execution_count": null,
      "outputs": []
    }
  ]
}