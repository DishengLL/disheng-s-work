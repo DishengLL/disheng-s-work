{
 "cells": [
  {
   "cell_type": "markdown",
   "id": "aaeeeb17",
   "metadata": {
    "toc": true
   },
   "source": [
    "<h1>Table of Contents<span class=\"tocSkip\"></span></h1>\n",
    "<div class=\"toc\"><ul class=\"toc-item\"><li><span><a href=\"#skip-gram-model\" data-toc-modified-id=\"skip-gram-model-1\"><span class=\"toc-item-num\">1&nbsp;&nbsp;</span>skip-gram model</a></span><ul class=\"toc-item\"><li><span><a href=\"#corpus\" data-toc-modified-id=\"corpus-1.1\"><span class=\"toc-item-num\">1.1&nbsp;&nbsp;</span>corpus</a></span></li><li><span><a href=\"#preprocessing\" data-toc-modified-id=\"preprocessing-1.2\"><span class=\"toc-item-num\">1.2&nbsp;&nbsp;</span>preprocessing</a></span></li></ul></li><li><span><a href=\"#PyTorch-Word2Vec-Network\" data-toc-modified-id=\"PyTorch-Word2Vec-Network-2\"><span class=\"toc-item-num\">2&nbsp;&nbsp;</span>PyTorch Word2Vec Network</a></span><ul class=\"toc-item\"><li><span><a href=\"#preprocessing\" data-toc-modified-id=\"preprocessing-2.1\"><span class=\"toc-item-num\">2.1&nbsp;&nbsp;</span>preprocessing</a></span></li><li><span><a href=\"#establish-network\" data-toc-modified-id=\"establish-network-2.2\"><span class=\"toc-item-num\">2.2&nbsp;&nbsp;</span>establish network</a></span></li><li><span><a href=\"#save-model\" data-toc-modified-id=\"save-model-2.3\"><span class=\"toc-item-num\">2.3&nbsp;&nbsp;</span>save model</a></span></li><li><span><a href=\"#extract-word-embedding\" data-toc-modified-id=\"extract-word-embedding-2.4\"><span class=\"toc-item-num\">2.4&nbsp;&nbsp;</span>extract word embedding</a></span></li><li><span><a href=\"#Visualizaion\" data-toc-modified-id=\"Visualizaion-2.5\"><span class=\"toc-item-num\">2.5&nbsp;&nbsp;</span>Visualizaion</a></span></li></ul></li></ul></div>"
   ]
  },
  {
   "cell_type": "markdown",
   "id": "06d83da8",
   "metadata": {},
   "source": [
    "# skip-gram model\n"
   ]
  },
  {
   "cell_type": "code",
   "execution_count": 1,
   "id": "3a7407c8",
   "metadata": {},
   "outputs": [],
   "source": [
    "import numpy as np\n",
    "import torch\n",
    "import torch\n",
    "from torch.autograd import Variable\n",
    "import numpy as np\n",
    "import torch.functional as F\n",
    "import torch.nn.functional as F"
   ]
  },
  {
   "cell_type": "markdown",
   "id": "b8ee88b4",
   "metadata": {},
   "source": [
    "## corpus"
   ]
  },
  {
   "cell_type": "code",
   "execution_count": 2,
   "id": "99355bcd",
   "metadata": {},
   "outputs": [],
   "source": [
    "corpus = [\n",
    "    'he is a king',\n",
    "    'she is a queen',\n",
    "    'he is a man',\n",
    "    'she is a woman',\n",
    "    'queen is a woman',\n",
    "    'king is a man',\n",
    "    'warsaw is poland capital',\n",
    "    'berlin is germany capital',\n",
    "    'paris is france capital',   \n",
    "]"
   ]
  },
  {
   "cell_type": "markdown",
   "id": "025a5a23",
   "metadata": {},
   "source": [
    "## preprocessing\n"
   ]
  },
  {
   "cell_type": "code",
   "execution_count": 3,
   "id": "581dcc2a",
   "metadata": {},
   "outputs": [],
   "source": [
    "def tokenize_corpus(corpus):\n",
    "    tokens = [x.split() for x in corpus]\n",
    "    return tokens\n",
    "\n",
    "tokenized_corpus = tokenize_corpus(corpus)\n"
   ]
  },
  {
   "cell_type": "code",
   "execution_count": 4,
   "id": "8ef2810d",
   "metadata": {},
   "outputs": [
    {
     "data": {
      "text/plain": [
       "[['he', 'is', 'a', 'king'],\n",
       " ['she', 'is', 'a', 'queen'],\n",
       " ['he', 'is', 'a', 'man'],\n",
       " ['she', 'is', 'a', 'woman'],\n",
       " ['queen', 'is', 'a', 'woman'],\n",
       " ['king', 'is', 'a', 'man'],\n",
       " ['warsaw', 'is', 'poland', 'capital'],\n",
       " ['berlin', 'is', 'germany', 'capital'],\n",
       " ['paris', 'is', 'france', 'capital']]"
      ]
     },
     "execution_count": 4,
     "metadata": {},
     "output_type": "execute_result"
    }
   ],
   "source": [
    "tokenized_corpus"
   ]
  },
  {
   "cell_type": "code",
   "execution_count": 5,
   "id": "a03b3f01",
   "metadata": {},
   "outputs": [
    {
     "data": {
      "text/plain": [
       "15"
      ]
     },
     "execution_count": 5,
     "metadata": {},
     "output_type": "execute_result"
    }
   ],
   "source": [
    "vocabulary = []\n",
    "for sentence in tokenized_corpus:\n",
    "    for token in sentence:\n",
    "        if token not in vocabulary:\n",
    "            vocabulary.append(token)\n",
    "\n",
    "word2idx = {w: idx for (idx, w) in enumerate(vocabulary)}\n",
    "idx2word = {idx: w for (idx, w) in enumerate(vocabulary)}\n",
    "\n",
    "vocabulary_size = len(vocabulary)\n",
    "\n",
    "vocabulary_size\n"
   ]
  },
  {
   "cell_type": "code",
   "execution_count": 6,
   "id": "85291ab7",
   "metadata": {},
   "outputs": [
    {
     "data": {
      "text/plain": [
       "['he',\n",
       " 'is',\n",
       " 'a',\n",
       " 'king',\n",
       " 'she',\n",
       " 'queen',\n",
       " 'man',\n",
       " 'woman',\n",
       " 'warsaw',\n",
       " 'poland',\n",
       " 'capital',\n",
       " 'berlin',\n",
       " 'germany',\n",
       " 'paris',\n",
       " 'france']"
      ]
     },
     "execution_count": 6,
     "metadata": {},
     "output_type": "execute_result"
    }
   ],
   "source": [
    "vocabulary"
   ]
  },
  {
   "cell_type": "code",
   "execution_count": 7,
   "id": "02de28cc",
   "metadata": {},
   "outputs": [],
   "source": [
    "window_size = 2\n",
    "idx_pairs = []\n",
    "# for each sentence\n",
    "for sentence in tokenized_corpus:\n",
    "    indices = [word2idx[word] for word in sentence]\n",
    "    # for each word, threated as center word\n",
    "    for center_word_pos in range(len(indices)):\n",
    "        # for each window position\n",
    "        for w in range(-window_size, window_size + 1):\n",
    "            context_word_pos = center_word_pos + w\n",
    "            # make soure not jump out sentence\n",
    "            if context_word_pos < 0 or context_word_pos >= len(indices) or center_word_pos == context_word_pos:\n",
    "                continue\n",
    "            context_word_idx = indices[context_word_pos]\n",
    "            idx_pairs.append((indices[center_word_pos], context_word_idx))\n",
    "\n",
    "idx_pairs = np.array(idx_pairs) # it will be useful to have this as numpy array\n",
    "# idx_pairs-----(center_word, context_word)"
   ]
  },
  {
   "cell_type": "code",
   "execution_count": 8,
   "id": "750a521e",
   "metadata": {
    "collapsed": true
   },
   "outputs": [
    {
     "data": {
      "text/plain": [
       "array([[ 0,  1],\n",
       "       [ 0,  2],\n",
       "       [ 1,  0],\n",
       "       [ 1,  2],\n",
       "       [ 1,  3],\n",
       "       [ 2,  0],\n",
       "       [ 2,  1],\n",
       "       [ 2,  3],\n",
       "       [ 3,  1],\n",
       "       [ 3,  2],\n",
       "       [ 4,  1],\n",
       "       [ 4,  2],\n",
       "       [ 1,  4],\n",
       "       [ 1,  2],\n",
       "       [ 1,  5],\n",
       "       [ 2,  4],\n",
       "       [ 2,  1],\n",
       "       [ 2,  5],\n",
       "       [ 5,  1],\n",
       "       [ 5,  2],\n",
       "       [ 0,  1],\n",
       "       [ 0,  2],\n",
       "       [ 1,  0],\n",
       "       [ 1,  2],\n",
       "       [ 1,  6],\n",
       "       [ 2,  0],\n",
       "       [ 2,  1],\n",
       "       [ 2,  6],\n",
       "       [ 6,  1],\n",
       "       [ 6,  2],\n",
       "       [ 4,  1],\n",
       "       [ 4,  2],\n",
       "       [ 1,  4],\n",
       "       [ 1,  2],\n",
       "       [ 1,  7],\n",
       "       [ 2,  4],\n",
       "       [ 2,  1],\n",
       "       [ 2,  7],\n",
       "       [ 7,  1],\n",
       "       [ 7,  2],\n",
       "       [ 5,  1],\n",
       "       [ 5,  2],\n",
       "       [ 1,  5],\n",
       "       [ 1,  2],\n",
       "       [ 1,  7],\n",
       "       [ 2,  5],\n",
       "       [ 2,  1],\n",
       "       [ 2,  7],\n",
       "       [ 7,  1],\n",
       "       [ 7,  2],\n",
       "       [ 3,  1],\n",
       "       [ 3,  2],\n",
       "       [ 1,  3],\n",
       "       [ 1,  2],\n",
       "       [ 1,  6],\n",
       "       [ 2,  3],\n",
       "       [ 2,  1],\n",
       "       [ 2,  6],\n",
       "       [ 6,  1],\n",
       "       [ 6,  2],\n",
       "       [ 8,  1],\n",
       "       [ 8,  9],\n",
       "       [ 1,  8],\n",
       "       [ 1,  9],\n",
       "       [ 1, 10],\n",
       "       [ 9,  8],\n",
       "       [ 9,  1],\n",
       "       [ 9, 10],\n",
       "       [10,  1],\n",
       "       [10,  9],\n",
       "       [11,  1],\n",
       "       [11, 12],\n",
       "       [ 1, 11],\n",
       "       [ 1, 12],\n",
       "       [ 1, 10],\n",
       "       [12, 11],\n",
       "       [12,  1],\n",
       "       [12, 10],\n",
       "       [10,  1],\n",
       "       [10, 12],\n",
       "       [13,  1],\n",
       "       [13, 14],\n",
       "       [ 1, 13],\n",
       "       [ 1, 14],\n",
       "       [ 1, 10],\n",
       "       [14, 13],\n",
       "       [14,  1],\n",
       "       [14, 10],\n",
       "       [10,  1],\n",
       "       [10, 14]])"
      ]
     },
     "execution_count": 8,
     "metadata": {},
     "output_type": "execute_result"
    }
   ],
   "source": [
    "idx_pairs"
   ]
  },
  {
   "cell_type": "code",
   "execution_count": 9,
   "id": "da5b5e31",
   "metadata": {},
   "outputs": [],
   "source": [
    "def get_input_layer(word_idx):\n",
    "    x = torch.zeros(vocabulary_size).float()\n",
    "    x[word_idx] = 1.0\n",
    "    return x"
   ]
  },
  {
   "cell_type": "code",
   "execution_count": 10,
   "id": "63efd587",
   "metadata": {
    "collapsed": true
   },
   "outputs": [
    {
     "name": "stdout",
     "output_type": "stream",
     "text": [
      "Loss at epo 0: 5.365805343786875\n",
      "Loss at epo 10: 4.265196937074264\n",
      "Loss at epo 20: 3.7574497762653563\n",
      "Loss at epo 30: 3.427095933755239\n",
      "Loss at epo 40: 3.183838502400451\n",
      "Loss at epo 50: 2.992399157087008\n",
      "Loss at epo 60: 2.835820076531834\n",
      "Loss at epo 70: 2.7055015221238135\n",
      "Loss at epo 80: 2.596596153742737\n",
      "Loss at epo 90: 2.505732663638062\n",
      "Loss at epo 100: 2.429963717692428\n"
     ]
    }
   ],
   "source": [
    "embedding_dims = 5\n",
    "W1 = Variable(torch.randn(embedding_dims, vocabulary_size).float(), requires_grad=True)\n",
    "W2 = Variable(torch.randn(vocabulary_size, embedding_dims).float(), requires_grad=True)\n",
    "num_epochs = 101\n",
    "learning_rate = 0.001\n",
    "\n",
    "for epo in range(num_epochs):\n",
    "    loss_val = 0\n",
    "    for data, target in idx_pairs:\n",
    "        x = Variable(get_input_layer(data)).float()\n",
    "        y_true = Variable(torch.from_numpy(np.array([target])).long())\n",
    "\n",
    "        z1 = torch.matmul(W1, x)\n",
    "        z2 = torch.matmul(W2, z1)\n",
    "\n",
    "\n",
    "    \n",
    "        log_softmax = F.log_softmax(z2, dim=0)\n",
    "#         print(log_softmax.view(1,-1).shape)\n",
    "#         print(log_softmax.shape)\n",
    "#         print(y_true)\n",
    "        \n",
    "\n",
    "        loss = F.nll_loss(log_softmax.view(1,-1), y_true)\n",
    "\n",
    "        loss_val += loss.item()\n",
    "        loss.backward()\n",
    "        W1.data -= learning_rate * W1.grad.data\n",
    "        W2.data -= learning_rate * W2.grad.data\n",
    "\n",
    "        W1.grad.data.zero_()\n",
    "        W2.grad.data.zero_()\n",
    "    if epo % 10 == 0:    \n",
    "        print(f'Loss at epo {epo}: {loss_val/len(idx_pairs)}')"
   ]
  },
  {
   "cell_type": "code",
   "execution_count": 11,
   "id": "fe5458dc",
   "metadata": {},
   "outputs": [
    {
     "name": "stdout",
     "output_type": "stream",
     "text": [
      "torch.Size([5, 15])\n",
      "torch.Size([5, 15])\n",
      "torch.Size([5, 15])\n"
     ]
    }
   ],
   "source": [
    "print(W1.shape)\n",
    "print(W2.T.shape)\n",
    "W = W1+W2.T\n",
    "print((W/2).shape)"
   ]
  },
  {
   "cell_type": "code",
   "execution_count": null,
   "id": "6b83014c",
   "metadata": {},
   "outputs": [],
   "source": []
  },
  {
   "cell_type": "code",
   "execution_count": null,
   "id": "1aae00a6",
   "metadata": {},
   "outputs": [],
   "source": []
  },
  {
   "cell_type": "code",
   "execution_count": null,
   "id": "f6b61d2f",
   "metadata": {},
   "outputs": [],
   "source": []
  },
  {
   "cell_type": "code",
   "execution_count": null,
   "id": "9b791077",
   "metadata": {},
   "outputs": [],
   "source": []
  },
  {
   "cell_type": "markdown",
   "id": "ad516360",
   "metadata": {},
   "source": [
    "# PyTorch Word2Vec Network\n",
    "\n",
    "## preprocessing"
   ]
  },
  {
   "cell_type": "code",
   "execution_count": 24,
   "id": "1543291a",
   "metadata": {},
   "outputs": [],
   "source": [
    "corpus = [\n",
    "    'he is a king',\n",
    "    'she is a queen',\n",
    "    'he is a man',\n",
    "    'she is a woman',\n",
    "    'warsaw is poland capital',\n",
    "    'berlin is germany capital',\n",
    "    'paris is france capital', \n",
    "]"
   ]
  },
  {
   "cell_type": "code",
   "execution_count": 25,
   "id": "fc1ea92e",
   "metadata": {},
   "outputs": [],
   "source": [
    "def tokenize_corpus(corpus):\n",
    "    tokens = [x.split() for x in corpus]\n",
    "    return tokens\n",
    "\n",
    "tokenized_corpus = tokenize_corpus(corpus)"
   ]
  },
  {
   "cell_type": "code",
   "execution_count": 26,
   "id": "2cf969cb",
   "metadata": {},
   "outputs": [
    {
     "data": {
      "text/plain": [
       "15"
      ]
     },
     "execution_count": 26,
     "metadata": {},
     "output_type": "execute_result"
    }
   ],
   "source": [
    "vocabulary = []\n",
    "for sentence in tokenized_corpus:\n",
    "    for token in sentence:\n",
    "        if token not in vocabulary:\n",
    "            vocabulary.append(token)\n",
    "\n",
    "word2idx = {w: idx for (idx, w) in enumerate(vocabulary)}\n",
    "idx2word = {idx: w for (idx, w) in enumerate(vocabulary)}\n",
    "\n",
    "vocabulary_size = len(vocabulary)\n",
    "\n",
    "vocabulary_size"
   ]
  },
  {
   "cell_type": "code",
   "execution_count": 27,
   "id": "49eaa04e",
   "metadata": {},
   "outputs": [],
   "source": [
    "window_size = 2\n",
    "idx_pairs = []\n",
    "# for each sentence\n",
    "for sentence in tokenized_corpus:\n",
    "    indices = [word2idx[word] for word in sentence]\n",
    "    # for each word, threated as center word\n",
    "    for center_word_pos in range(len(indices)):\n",
    "        # for each window position\n",
    "        for w in range(-window_size, window_size + 1):\n",
    "            context_word_pos = center_word_pos + w\n",
    "            # make soure not jump out sentence\n",
    "            if context_word_pos < 0 or context_word_pos >= len(indices) or center_word_pos == context_word_pos:\n",
    "                continue\n",
    "            context_word_idx = indices[context_word_pos]\n",
    "            idx_pairs.append((indices[center_word_pos], context_word_idx))\n",
    "\n",
    "idx_pairs = np.array(idx_pairs) # it will be useful to have this as numpy array"
   ]
  },
  {
   "cell_type": "code",
   "execution_count": 28,
   "id": "6abc3f26",
   "metadata": {},
   "outputs": [],
   "source": [
    "def get_input_layer(word_idx):\n",
    "    x = torch.zeros(vocabulary_size).float()\n",
    "    x[word_idx] = 1.0\n",
    "    return x"
   ]
  },
  {
   "cell_type": "code",
   "execution_count": 29,
   "id": "7efc1d19",
   "metadata": {},
   "outputs": [
    {
     "data": {
      "text/plain": [
       "{'he': 0,\n",
       " 'is': 1,\n",
       " 'a': 2,\n",
       " 'king': 3,\n",
       " 'she': 4,\n",
       " 'queen': 5,\n",
       " 'man': 6,\n",
       " 'woman': 7,\n",
       " 'warsaw': 8,\n",
       " 'poland': 9,\n",
       " 'capital': 10,\n",
       " 'berlin': 11,\n",
       " 'germany': 12,\n",
       " 'paris': 13,\n",
       " 'france': 14}"
      ]
     },
     "execution_count": 29,
     "metadata": {},
     "output_type": "execute_result"
    }
   ],
   "source": [
    "word2idx"
   ]
  },
  {
   "cell_type": "markdown",
   "id": "5b89cd0e",
   "metadata": {},
   "source": [
    "## establish network"
   ]
  },
  {
   "cell_type": "code",
   "execution_count": 56,
   "id": "e8c08a87",
   "metadata": {},
   "outputs": [],
   "source": [
    "import torch\n",
    "from torch import nn\n",
    "from torch.utils.data import DataLoader\n",
    "from torchvision import datasets\n",
    "from torchvision.transforms import ToTensor, Lambda, Compose\n",
    "import matplotlib.pyplot as plt\n",
    "import torch.functional as F\n",
    "import torch.nn.functional as F\n"
   ]
  },
  {
   "cell_type": "code",
   "execution_count": 83,
   "id": "8ebf9b01",
   "metadata": {},
   "outputs": [
    {
     "name": "stdout",
     "output_type": "stream",
     "text": [
      "Using cpu device\n",
      "NeuralNetwork(\n",
      "  (linear_w2v): Sequential(\n",
      "    (0): Linear(in_features=15, out_features=5, bias=True)\n",
      "    (1): Sigmoid()\n",
      "    (2): Linear(in_features=5, out_features=15, bias=True)\n",
      "  )\n",
      ")\n"
     ]
    }
   ],
   "source": [
    "device = \"cuda\" if torch.cuda.is_available() else \"cpu\"\n",
    "print(f\"Using {device} device\")\n",
    "\n",
    "\n",
    "dim = 5\n",
    "vocabulary_size = vocabulary_size\n",
    "\n",
    "# Define model\n",
    "class NeuralNetwork(nn.Module):\n",
    "    def __init__(self,dim,vocabulary_size):\n",
    "        super(NeuralNetwork, self).__init__()\n",
    "        self.dim = dim\n",
    "        self.vocabulary_size=vocabulary_size\n",
    "        self.linear_w2v = nn.Sequential(\n",
    "            nn.Linear(self.vocabulary_size , self.dim),\n",
    "            nn.Sigmoid(),\n",
    "            #nn.ReLU(),\n",
    "            nn.Linear(self.dim, self.vocabulary_size),\n",
    "        )\n",
    "\n",
    "    def forward(self, x):\n",
    "#         x = self.flatten(x)\n",
    "        res = self.linear_w2v(x)\n",
    "        #res = nn.Softmax(dim=0)(res)\n",
    "        res = F.log_softmax(res, dim=0)\n",
    "        return res\n",
    "\n",
    "model = NeuralNetwork(5,vocabulary_size = vocabulary_size).to(device)\n",
    "print(model)"
   ]
  },
  {
   "cell_type": "code",
   "execution_count": 84,
   "id": "650ee11c",
   "metadata": {},
   "outputs": [],
   "source": [
    "#loss_fn = nn.CrossEntropyLoss()\n",
    "loss_fn = nn.NLLLoss()\n",
    "optimizer = torch.optim.SGD(model.parameters(), lr=3e-3)\n",
    "\n",
    "\n"
   ]
  },
  {
   "cell_type": "code",
   "execution_count": 85,
   "id": "e239551c",
   "metadata": {},
   "outputs": [],
   "source": [
    "def train(idx_pairs, model, loss_fn, optimizer,num_epochs):\n",
    "    model.train()\n",
    "    for epo in range(num_epochs):\n",
    "        for data, target in idx_pairs:\n",
    "            x = get_input_layer(data)\n",
    "\n",
    "            y_true = Variable(torch.from_numpy(np.array([target])).long())\n",
    "            \n",
    "            x, y_true = x.to(device), y_true.to(device)\n",
    "#             print(y_true.shape)\n",
    "            \n",
    "            pred = model(x)\n",
    "#             print(pred.view(1,-1).shape)\n",
    "            loss = loss_fn(pred.view(1,-1), y_true)\n",
    "            \n",
    "            optimizer.zero_grad()\n",
    "            loss.backward()\n",
    "            optimizer.step()\n",
    "        if epo % 1000 == 0:    \n",
    "            print( f\"loss: {loss:>7f}  [{epo:>5d}/{num_epochs:>5d}]\")\n",
    "       \n",
    "    \n",
    "            "
   ]
  },
  {
   "cell_type": "code",
   "execution_count": 86,
   "id": "107b38a0",
   "metadata": {
    "scrolled": false
   },
   "outputs": [
    {
     "name": "stdout",
     "output_type": "stream",
     "text": [
      "loss: 2.643618  [    0/10000]\n",
      "loss: 2.806059  [ 1000/10000]\n",
      "loss: 2.074090  [ 2000/10000]\n",
      "loss: 1.897772  [ 3000/10000]\n",
      "loss: 1.829331  [ 4000/10000]\n",
      "loss: 1.832941  [ 5000/10000]\n",
      "loss: 1.870591  [ 6000/10000]\n",
      "loss: 1.901261  [ 7000/10000]\n",
      "loss: 1.903641  [ 8000/10000]\n",
      "loss: 1.885684  [ 9000/10000]\n",
      "Done!\n"
     ]
    }
   ],
   "source": [
    "num_epochs = 10000\n",
    "train(idx_pairs, model, loss_fn, optimizer,num_epochs)\n",
    "# test(test_dataloader, model, loss_fn)\n",
    "print(\"Done!\")\n"
   ]
  },
  {
   "cell_type": "markdown",
   "id": "20b43f3a",
   "metadata": {},
   "source": [
    "## save model "
   ]
  },
  {
   "cell_type": "code",
   "execution_count": 76,
   "id": "b4f94e70",
   "metadata": {},
   "outputs": [
    {
     "name": "stdout",
     "output_type": "stream",
     "text": [
      "Saved PyTorch Model State to model.pth\n"
     ]
    },
    {
     "data": {
      "text/plain": [
       "NeuralNetwork(\n",
       "  (linear_w2v): Sequential(\n",
       "    (0): Linear(in_features=15, out_features=5, bias=True)\n",
       "    (1): ReLU()\n",
       "    (2): Linear(in_features=5, out_features=15, bias=True)\n",
       "  )\n",
       ")"
      ]
     },
     "execution_count": 76,
     "metadata": {},
     "output_type": "execute_result"
    }
   ],
   "source": [
    "torch.save(model.state_dict(), \"w2v_model.pth\")\n",
    "print(\"Saved PyTorch Model State to model.pth\")\n",
    "model"
   ]
  },
  {
   "cell_type": "code",
   "execution_count": 38,
   "id": "3dec017c",
   "metadata": {},
   "outputs": [
    {
     "ename": "RuntimeError",
     "evalue": "Error(s) in loading state_dict for NeuralNetwork:\n\tsize mismatch for linear_w2v.0.weight: copying a param with shape torch.Size([5, 15]) from checkpoint, the shape in current model is torch.Size([8, 15]).\n\tsize mismatch for linear_w2v.0.bias: copying a param with shape torch.Size([5]) from checkpoint, the shape in current model is torch.Size([8]).\n\tsize mismatch for linear_w2v.2.weight: copying a param with shape torch.Size([15, 5]) from checkpoint, the shape in current model is torch.Size([15, 8]).",
     "output_type": "error",
     "traceback": [
      "\u001b[0;31m---------------------------------------------------------------------------\u001b[0m",
      "\u001b[0;31mRuntimeError\u001b[0m                              Traceback (most recent call last)",
      "\u001b[0;32m/var/folders/pp/qtk1lyns6zg8x9dlj6f5xvtm0000gn/T/ipykernel_40396/3638110870.py\u001b[0m in \u001b[0;36m<module>\u001b[0;34m\u001b[0m\n\u001b[1;32m      1\u001b[0m \u001b[0mmodel\u001b[0m \u001b[0;34m=\u001b[0m \u001b[0mNeuralNetwork\u001b[0m\u001b[0;34m(\u001b[0m\u001b[0mdim\u001b[0m\u001b[0;34m,\u001b[0m\u001b[0mvocabulary_size\u001b[0m\u001b[0;34m)\u001b[0m\u001b[0;34m\u001b[0m\u001b[0;34m\u001b[0m\u001b[0m\n\u001b[0;32m----> 2\u001b[0;31m \u001b[0mmodel\u001b[0m\u001b[0;34m.\u001b[0m\u001b[0mload_state_dict\u001b[0m\u001b[0;34m(\u001b[0m\u001b[0mtorch\u001b[0m\u001b[0;34m.\u001b[0m\u001b[0mload\u001b[0m\u001b[0;34m(\u001b[0m\u001b[0;34m\"w2v_model.pth\"\u001b[0m\u001b[0;34m)\u001b[0m\u001b[0;34m)\u001b[0m\u001b[0;34m\u001b[0m\u001b[0;34m\u001b[0m\u001b[0m\n\u001b[0m",
      "\u001b[0;32m/opt/anaconda3/envs/python-run/lib/python3.9/site-packages/torch/nn/modules/module.py\u001b[0m in \u001b[0;36mload_state_dict\u001b[0;34m(self, state_dict, strict)\u001b[0m\n\u001b[1;32m   1480\u001b[0m \u001b[0;34m\u001b[0m\u001b[0m\n\u001b[1;32m   1481\u001b[0m         \u001b[0;32mif\u001b[0m \u001b[0mlen\u001b[0m\u001b[0;34m(\u001b[0m\u001b[0merror_msgs\u001b[0m\u001b[0;34m)\u001b[0m \u001b[0;34m>\u001b[0m \u001b[0;36m0\u001b[0m\u001b[0;34m:\u001b[0m\u001b[0;34m\u001b[0m\u001b[0;34m\u001b[0m\u001b[0m\n\u001b[0;32m-> 1482\u001b[0;31m             raise RuntimeError('Error(s) in loading state_dict for {}:\\n\\t{}'.format(\n\u001b[0m\u001b[1;32m   1483\u001b[0m                                self.__class__.__name__, \"\\n\\t\".join(error_msgs)))\n\u001b[1;32m   1484\u001b[0m         \u001b[0;32mreturn\u001b[0m \u001b[0m_IncompatibleKeys\u001b[0m\u001b[0;34m(\u001b[0m\u001b[0mmissing_keys\u001b[0m\u001b[0;34m,\u001b[0m \u001b[0munexpected_keys\u001b[0m\u001b[0;34m)\u001b[0m\u001b[0;34m\u001b[0m\u001b[0;34m\u001b[0m\u001b[0m\n",
      "\u001b[0;31mRuntimeError\u001b[0m: Error(s) in loading state_dict for NeuralNetwork:\n\tsize mismatch for linear_w2v.0.weight: copying a param with shape torch.Size([5, 15]) from checkpoint, the shape in current model is torch.Size([8, 15]).\n\tsize mismatch for linear_w2v.0.bias: copying a param with shape torch.Size([5]) from checkpoint, the shape in current model is torch.Size([8]).\n\tsize mismatch for linear_w2v.2.weight: copying a param with shape torch.Size([15, 5]) from checkpoint, the shape in current model is torch.Size([15, 8])."
     ]
    }
   ],
   "source": [
    "model = NeuralNetwork(dim,vocabulary_size)\n",
    "model.load_state_dict(torch.load(\"w2v_model.pth\"))\n"
   ]
  },
  {
   "cell_type": "markdown",
   "id": "31609b2b",
   "metadata": {},
   "source": [
    "## extract word embedding"
   ]
  },
  {
   "cell_type": "code",
   "execution_count": 77,
   "id": "db13fbb2",
   "metadata": {},
   "outputs": [
    {
     "name": "stdout",
     "output_type": "stream",
     "text": [
      "linear_w2v.0.weight\n",
      "--\n",
      "Parameter containing:\n",
      "tensor([[ 1.2015e+00, -1.0389e+00, -2.3440e+00,  1.1638e+00,  1.2037e+00,\n",
      "          1.1665e+00,  1.1683e+00,  1.1705e+00, -2.3201e+00,  2.1557e+00,\n",
      "         -2.0076e+00, -1.4280e+00,  2.9285e-01, -2.3417e+00,  4.4944e+00],\n",
      "        [ 1.2386e-01, -9.1122e-02, -2.4335e-01, -2.4151e-01, -9.0420e-02,\n",
      "          8.9497e-02,  2.1107e-01, -5.8691e-02, -1.4327e-01, -1.6976e-01,\n",
      "         -2.5615e-01,  2.4340e-02, -1.8688e-01, -2.2939e-01,  2.4763e-02],\n",
      "        [-2.2950e-01,  2.5879e+00, -2.3201e-01, -2.2780e-01, -2.3282e-01,\n",
      "         -2.2865e-01, -2.2926e-01, -2.3299e-01, -2.0410e-01, -2.2839e-01,\n",
      "         -2.3066e-01, -2.2990e-01, -2.2427e-01, -2.2456e-01, -2.2040e-01],\n",
      "        [-9.1927e-02,  1.4393e-01, -7.0724e-03,  1.7079e-02, -1.4363e-01,\n",
      "          8.6440e-02,  3.0028e-02,  4.8143e-02,  3.4159e-03, -1.1509e-01,\n",
      "         -2.9805e-02, -1.8536e-01,  1.4871e-01,  7.1334e-02, -6.7604e-02],\n",
      "        [-9.0249e-01,  8.2928e-02,  1.4584e+00, -9.2534e-01, -9.0258e-01,\n",
      "         -9.2565e-01, -9.2581e-01, -9.2556e-01, -1.1308e+00,  3.9888e+00,\n",
      "         -1.3165e+00, -1.3168e+00,  4.4946e+00, -6.3458e-01,  2.3323e+00]],\n",
      "       requires_grad=True)\n",
      "\n",
      "\n",
      "linear_w2v.0.bias\n",
      "--\n",
      "Parameter containing:\n",
      "tensor([ 2.3430, -0.2116,  0.0854, -0.1490,  1.3148], requires_grad=True)\n",
      "\n",
      "\n",
      "linear_w2v.2.weight\n",
      "--\n",
      "Parameter containing:\n",
      "tensor([[-1.7780,  0.1194,  0.6769,  0.2329,  1.6627],\n",
      "        [ 1.7470, -0.0727, -3.9719, -0.1499, -0.0623],\n",
      "        [ 3.6361, -0.3563,  0.7845, -0.4388, -3.0767],\n",
      "        [-1.3438, -0.3703,  0.3640, -0.2841,  1.4439],\n",
      "        [-1.9925,  0.2283,  0.7825, -0.1264,  1.6756],\n",
      "        [-1.5124, -0.0805,  0.4560,  0.3461,  1.4719],\n",
      "        [-1.6307, -0.3688,  0.5288, -0.1541,  1.5078],\n",
      "        [-1.7490, -0.1961,  0.5607, -0.1878,  1.4633],\n",
      "        [ 2.1719, -0.3654, -0.0486, -0.2041,  0.9866],\n",
      "        [-2.5520, -0.3401,  1.1523, -0.2239, -3.2505],\n",
      "        [ 2.3188,  0.4123,  0.1307, -0.2550,  1.0128],\n",
      "        [ 0.8580,  0.0138,  0.3201, -0.2771,  1.8326],\n",
      "        [ 1.1401, -0.3017,  0.0150, -0.3613, -3.6667],\n",
      "        [ 3.0484,  0.3938,  0.3229, -0.2617, -0.0827],\n",
      "        [-1.5651, -0.3683, -0.0620,  0.2785, -1.4245]], requires_grad=True)\n",
      "\n",
      "\n",
      "linear_w2v.2.bias\n",
      "--\n",
      "Parameter containing:\n",
      "tensor([-0.6200,  4.8660, -0.5341, -0.7144, -0.6311, -0.7763, -0.8623, -0.7257,\n",
      "        -3.4742,  5.3231, -3.0382, -3.9516,  4.2160, -4.0864,  4.7841],\n",
      "       requires_grad=True)\n",
      "\n",
      "\n"
     ]
    }
   ],
   "source": [
    "res = []\n",
    "for name, param in model.named_parameters():\n",
    "    print(name)\n",
    "    print('--')\n",
    "    print(param)\n",
    "    print('\\n')\n",
    "    if 'weight' in name :\n",
    "        res.append(param)"
   ]
  },
  {
   "cell_type": "code",
   "execution_count": 78,
   "id": "5a279069",
   "metadata": {},
   "outputs": [
    {
     "name": "stdout",
     "output_type": "stream",
     "text": [
      "torch.Size([15, 5])\n"
     ]
    },
    {
     "data": {
      "text/plain": [
       "tensor([[-0.2883,  0.1216,  0.2237,  0.0705,  0.3801],\n",
       "        [ 0.3541, -0.0819, -0.6920, -0.0030,  0.0103],\n",
       "        [ 0.6461, -0.2998,  0.2763, -0.2229, -0.8091],\n",
       "        [-0.0900, -0.3059,  0.0681, -0.1335,  0.2593],\n",
       "        [-0.3944,  0.0689,  0.2748, -0.1350,  0.3865],\n",
       "        [-0.1730,  0.0045,  0.1137,  0.2163,  0.2731],\n",
       "        [-0.2312, -0.0789,  0.1498, -0.0620,  0.2910],\n",
       "        [-0.2893, -0.1274,  0.1639, -0.0698,  0.2689],\n",
       "        [-0.0741, -0.2543, -0.1263, -0.1003, -0.0721],\n",
       "        [-0.1981, -0.2549,  0.4620, -0.1695,  0.3691],\n",
       "        [ 0.1556,  0.0781, -0.0500, -0.1424, -0.1518],\n",
       "        [-0.2850,  0.0191,  0.0451, -0.2312,  0.2579],\n",
       "        [ 0.7165, -0.2443, -0.1047, -0.1063,  0.4139],\n",
       "        [ 0.3533,  0.0822,  0.0492, -0.0952, -0.3586],\n",
       "        [ 1.4647, -0.1718, -0.1412,  0.1055,  0.4539]])"
      ]
     },
     "execution_count": 78,
     "metadata": {},
     "output_type": "execute_result"
    }
   ],
   "source": [
    "ress= ((res[0].T)).data + ((res[1])).data\n",
    "embedding = (ress/2)\n",
    "print(embedding.shape)\n",
    "embedding"
   ]
  },
  {
   "cell_type": "code",
   "execution_count": 79,
   "id": "2b12cd62",
   "metadata": {},
   "outputs": [
    {
     "data": {
      "text/plain": [
       "array([[-0.28826517,  0.12164679,  0.22372392,  0.07050588,  0.38010073],\n",
       "       [ 0.35405755, -0.08190916, -0.6919917 , -0.00300702,  0.01030795],\n",
       "       [ 0.64607024, -0.2998314 ,  0.27626485, -0.22294661, -0.80913925],\n",
       "       [-0.09001738, -0.30591652,  0.06811734, -0.13348739,  0.25930002],\n",
       "       [-0.39443386,  0.06893147,  0.27483577, -0.13503258,  0.38651553],\n",
       "       [-0.17295939,  0.00449817,  0.11369327,  0.21628049,  0.2731137 ],\n",
       "       [-0.2312125 , -0.07888495,  0.14975473, -0.06203181,  0.2909721 ],\n",
       "       [-0.28927362, -0.12738416,  0.16386008, -0.06982535,  0.26886347],\n",
       "       [-0.07405913, -0.2543118 , -0.12634334, -0.10032488, -0.07211134],\n",
       "       [-0.19814897, -0.2549076 ,  0.4619699 , -0.16948594,  0.3691212 ],\n",
       "       [ 0.15559053,  0.0780872 , -0.04998878, -0.14241827, -0.1518383 ],\n",
       "       [-0.28499806,  0.019077  ,  0.04508601, -0.23123997,  0.25785702],\n",
       "       [ 0.71647865, -0.24429075, -0.10465132, -0.10629469,  0.41394794],\n",
       "       [ 0.35334992,  0.08221771,  0.04917493, -0.09519197, -0.35864294],\n",
       "       [ 1.4646544 , -0.17177574, -0.1411833 ,  0.10546938,  0.4539159 ]],\n",
       "      dtype=float32)"
      ]
     },
     "execution_count": 79,
     "metadata": {},
     "output_type": "execute_result"
    }
   ],
   "source": [
    "embedding_np = embedding.numpy()\n",
    "embedding_np"
   ]
  },
  {
   "cell_type": "markdown",
   "id": "4f20f66d",
   "metadata": {},
   "source": [
    "## Visualizaion"
   ]
  },
  {
   "cell_type": "code",
   "execution_count": 80,
   "id": "7db032e9",
   "metadata": {},
   "outputs": [
    {
     "data": {
      "text/plain": [
       "array(['he', 'is', 'a', 'king', 'she', 'queen', 'man', 'woman', 'warsaw',\n",
       "       'poland', 'capital', 'berlin', 'germany', 'paris', 'france'],\n",
       "      dtype='<U7')"
      ]
     },
     "execution_count": 80,
     "metadata": {},
     "output_type": "execute_result"
    }
   ],
   "source": [
    "target_lable = np.array(list(word2idx.keys()))\n",
    "target_lable"
   ]
  },
  {
   "cell_type": "code",
   "execution_count": 81,
   "id": "6fcd9834",
   "metadata": {},
   "outputs": [
    {
     "data": {
      "text/plain": [
       "array([ 0,  1,  2,  3,  4,  5,  6,  7,  8,  9, 10, 11, 12, 13, 14])"
      ]
     },
     "execution_count": 81,
     "metadata": {},
     "output_type": "execute_result"
    }
   ],
   "source": [
    "color = np.array(list(word2idx.values()))\n",
    "color"
   ]
  },
  {
   "cell_type": "code",
   "execution_count": 82,
   "id": "ff46823e",
   "metadata": {},
   "outputs": [
    {
     "name": "stdout",
     "output_type": "stream",
     "text": [
      "(15, 5)\n",
      "(15,)\n"
     ]
    },
    {
     "name": "stderr",
     "output_type": "stream",
     "text": [
      "/opt/anaconda3/envs/python-run/lib/python3.9/site-packages/sklearn/manifold/_t_sne.py:790: FutureWarning: The default learning rate in TSNE will change from 200.0 to 'auto' in 1.2.\n",
      "  warnings.warn(\n",
      "/opt/anaconda3/envs/python-run/lib/python3.9/site-packages/sklearn/manifold/_t_sne.py:982: FutureWarning: The PCA initialization in TSNE will change to have the standard deviation of PC1 equal to 1e-4 in 1.2. This will ensure better convergence.\n",
      "  warnings.warn(\n"
     ]
    },
    {
     "data": {
      "image/png": "[encoded data removed]",
      "text/plain": [
       "<Figure size 720x504 with 1 Axes>"
      ]
     },
     "metadata": {},
     "output_type": "display_data"
    }
   ],
   "source": [
    "import numpy as np\n",
    "import matplotlib.pyplot as plt\n",
    "from sklearn import datasets\n",
    "from sklearn.manifold import TSNE\n",
    "from matplotlib.pyplot import figure\n",
    "import seaborn as sns\n",
    "\n",
    "\n",
    "\n",
    "\n",
    "class FeatureVisualize(object):\n",
    "    '''\n",
    "    Visualize features by TSNE\n",
    "    '''\n",
    "\n",
    "    def __init__(self, features, labels,color):\n",
    "        '''\n",
    "        features: (m,n)\n",
    "        labels: (m,)\n",
    "        '''\n",
    "        self.features = features\n",
    "        self.labels = labels\n",
    "        self.color = color\n",
    "\n",
    "    def plot_tsne(self, save_eps=False):\n",
    "        ''' Plot TSNE figure. Set save_eps=True if you want to save a .eps file.\n",
    "        '''\n",
    "        fig, axs = plt.subplots(figsize=(10,7))\n",
    "        tsne = TSNE(n_components=2, init='pca', random_state=0)\n",
    "        features = tsne.fit_transform(self.features)\n",
    "        x_min, x_max = np.min(features, 0), np.max(features, 0)\n",
    "        data = (features - x_min) / (x_max - x_min)\n",
    "        del features\n",
    "        for i in range(data.shape[0]):\n",
    "            plt.text(data[i, 0], data[i, 1], str(self.labels[i]),\n",
    "                     color=plt.cm.Set1(self.color[i] / 10.),\n",
    "                     fontdict={'weight': 'bold', 'size': 15})\n",
    "        plt.xticks([])\n",
    "        plt.yticks([])\n",
    "        plt.title('T-SNE')\n",
    "        if save_eps:\n",
    "            plt.savefig('tsne.eps', dpi=600, format='eps')\n",
    "        plt.grid(True)\n",
    "\n",
    "        plt.show()\n",
    "\n",
    "\n",
    "if __name__ == '__main__':\n",
    "    digits = datasets.load_digits(n_class=5)\n",
    "    features, labels = embedding_np,target_lable #digits.data, digits.target\n",
    "    print(features.shape)\n",
    "    print(labels.shape)\n",
    "    vis = FeatureVisualize(features, labels,color)\n",
    "    vis.plot_tsne(save_eps=True)"
   ]
  },
  {
   "cell_type": "code",
   "execution_count": null,
   "id": "1b704261",
   "metadata": {},
   "outputs": [],
   "source": [
    "\n",
    "    "
   ]
  },
  {
   "cell_type": "code",
   "execution_count": null,
   "id": "df87f75a",
   "metadata": {},
   "outputs": [],
   "source": []
  },
  {
   "cell_type": "code",
   "execution_count": null,
   "id": "85727a7f",
   "metadata": {},
   "outputs": [],
   "source": []
  },
  {
   "cell_type": "code",
   "execution_count": null,
   "id": "9d08fb78",
   "metadata": {},
   "outputs": [],
   "source": []
  }
 ],
 "metadata": {
  "kernelspec": {
   "display_name": "Python [conda env:python-run]",
   "language": "python",
   "name": "conda-env-python-run-py"
  },
  "language_info": {
   "codemirror_mode": {
    "name": "ipython",
    "version": 3
   },
   "file_extension": ".py",
   "mimetype": "text/x-python",
   "name": "python",
   "nbconvert_exporter": "python",
   "pygments_lexer": "ipython3",
   "version": "3.9.7"
  },
  "toc": {
   "base_numbering": 1,
   "nav_menu": {
    "height": "248.75px",
    "width": "237.76px"
   },
   "number_sections": true,
   "sideBar": true,
   "skip_h1_title": false,
   "title_cell": "Table of Contents",
   "title_sidebar": "Contents",
   "toc_cell": true,
   "toc_position": {},
   "toc_section_display": true,
   "toc_window_display": true
  },
  "widgets": {
   "application/vnd.jupyter.widget-state+json": {
    "state": {},
    "version_major": 2,
    "version_minor": 0
   }
  }
 },
 "nbformat": 4,
 "nbformat_minor": 5
}
